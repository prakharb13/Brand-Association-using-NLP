{
  "nbformat": 4,
  "nbformat_minor": 0,
  "metadata": {
    "colab": {
      "name": "Unstructured Edmunds Text Analysis.ipynb",
      "provenance": [],
      "collapsed_sections": []
    },
    "kernelspec": {
      "display_name": "Python 3",
      "name": "python3"
    },
    "language_info": {
      "name": "python"
    }
  },
  "cells": [
    {
      "cell_type": "code",
      "metadata": {
        "id": "5wzMvTpukLKZ"
      },
      "source": [
        "# Use this code if using Colab to run Selenium\n",
        "\n",
        "# Make sure to go to Runtime -> Change runtime and set GPU as hardware accelerator\n",
        "\n",
        "# !kill -9 -1 # Use this line to delete this VM and start a new one. \n",
        "# The above line deletes all files and folders from the current VM and allocates a new one.\n",
        "\n",
        "#Selenium is an open-source tool that automates web browsers.\n",
        "!pip install selenium\n",
        "!apt-get -q update   #Used to handle installation and removal of softwares and libraries\n",
        "!apt install -yq chromium-chromedriver #ChromeDriver is a separate executable that Selenium WebDriver uses to control Chrome.\n",
        "!cp /usr/lib/chromium-browser/chromedriver /usr/bin\n",
        "\n",
        "import sys\n",
        "sys.path.insert(0,'/usr/lib/chromium-browser/chromedriver')\n",
        "from selenium import webdriver \n",
        "#WebDriver is a browser automation framework that works with open source APIs. \n",
        "#The framework operates by accepting commands, sending those commands to a browser, and interacting with applications.\n",
        "chrome_options = webdriver.ChromeOptions()\n",
        "chrome_options.add_argument('--headless')\n",
        "chrome_options.add_argument('--no-sandbox')\n",
        "chrome_options.add_argument('--disable-dev-shm-usage')"
      ],
      "execution_count": null,
      "outputs": []
    },
    {
      "cell_type": "code",
      "metadata": {
        "id": "LSvyCIjdkSnr"
      },
      "source": [
        "wd = webdriver.Chrome('chromedriver',options=chrome_options)\n"
      ],
      "execution_count": null,
      "outputs": []
    },
    {
      "cell_type": "code",
      "metadata": {
        "id": "qqeVqrEGkX3R"
      },
      "source": [
        "# Source: https://towardsdatascience.com/web-scraping-using-selenium-python-8a60f4cf40ab\n",
        "wd.get('https://forums.edmunds.com/discussion/2864/general/x/entry-level-luxury-performance-sedans')\n",
        "#print(wd.page_source)"
      ],
      "execution_count": null,
      "outputs": []
    },
    {
      "cell_type": "code",
      "metadata": {
        "colab": {
          "base_uri": "https://localhost:8080/"
        },
        "id": "FmLdbqDikhlO",
        "outputId": "b380cea0-2cc2-492a-c326-fa251d7f6f03"
      },
      "source": [
        "user_message = wd.find_elements_by_xpath('//*[@id=\"Discussion_2864\"]/div/div[2]/div/div[1]')[0] \n",
        "print(user_message.text)"
      ],
      "execution_count": null,
      "outputs": [
        {
          "name": "stdout",
          "output_type": "stream",
          "text": [
            "Entry level performance luxury sedans are a hot area for car manufacturers and enthusiasts alike. These sedans show their performance by being fun to drive and handling well. They show luxury by offering leather and some of the important creatures comforts found in the most luxurious upscale sedans. The selection of vehicles that compete in the space is vast and varied.\n",
            "\n",
            "The benchmarks which define this are the BMW 330 and the Audi A4 3.0. But there are many contenders, such as Acura TL-S, Chrysler 300M, Jaguar X-type, Infiniti I35, Mercedes C-Class, Volvo S60 T5. Some companies have contenders that emphasize performance Lexus IS300 or luxury Lexus ES300. And the field is continously growing, with the recent additions being the Cadillac CTS and Infiniti G35.\n",
            "\n",
            "The common charateristics of this entry level perfomance luxury group seem to a price around 30 to 40k (US dollars) and 0-60 times between six and eight seconds.\n",
            "\n",
            "With this wide variety of cars targeted at a similar market segment, the choices for our own personal car are great. But with all these choices, it is hard to understand and personally evaluate all these options. So this topic has been created to start a discussion on the relative merits and personalities of the cars available in this entry level performance luxury field.\n"
          ]
        }
      ]
    },
    {
      "cell_type": "code",
      "metadata": {
        "colab": {
          "base_uri": "https://localhost:8080/"
        },
        "id": "ZTfeBM_Jk5bC",
        "outputId": "7428a612-a626-45ff-b198-84784effd34a"
      },
      "source": [
        "date = wd.find_elements_by_xpath('//*[@id=\"Discussion_2864\"]/div/div[1]/div[2]/span[1]/a/time')[0] \n",
        "print(date.text)\n",
        "time = date.get_attribute('title')\n",
        "print(time)"
      ],
      "execution_count": null,
      "outputs": [
        {
          "name": "stdout",
          "output_type": "stream",
          "text": [
            "March 2002\n",
            "March 23, 2002 12:04PM\n"
          ]
        }
      ]
    },
    {
      "cell_type": "code",
      "metadata": {
        "id": "5ULDOZRhmP-M"
      },
      "source": [
        "import pandas as pd\n",
        "import numpy as np"
      ],
      "execution_count": 1,
      "outputs": []
    },
    {
      "cell_type": "code",
      "metadata": {
        "id": "_j7m0Cokn02V"
      },
      "source": [
        "page_number_list = ['p'+str(x) for x in list(np.arange(2,330))]"
      ],
      "execution_count": null,
      "outputs": []
    },
    {
      "cell_type": "code",
      "metadata": {
        "colab": {
          "base_uri": "https://localhost:8080/"
        },
        "id": "Z7XrmkJDlFYI",
        "outputId": "e8e8f796-9abe-40cb-9815-493c345c0238"
      },
      "source": [
        "final_df_newest = pd.DataFrame()\n",
        "for p in page_number_list:\n",
        "  wd.get('https://forums.edmunds.com/discussion/2864/general/x/entry-level-luxury-performance-sedans/p')\n",
        "\n",
        "  comments = pd.DataFrame(columns = ['Date','comments']) \n",
        "  ids = wd.find_elements_by_xpath(\"//*[contains(@id,'Comment_')]\")\n",
        "\n",
        "  comment_ids = []\n",
        "  for i in ids:\n",
        "    comment_ids.append(i.get_attribute('id'))\n",
        "\n",
        "  for x in comment_ids:\n",
        "      #Extract dates from for each user on a page\n",
        "      user_date = wd.find_elements_by_xpath('//*[@id=\"'+x+'\"]/div/div[2]/div[2]/span/a/time')[0]\n",
        "      date = user_date.get_attribute('title')\n",
        "\n",
        "      #Extract Message for each user on a page\n",
        "      user_message = wd.find_elements_by_xpath('//*[@id=\"'+x+'\"]/div/div[3]/div/div[1]')[0]\n",
        "      comment = user_message.text\n",
        "                                    \n",
        "      #Adding date, userid and comment for each user in a dataframe    \n",
        "      comments.loc[len(comments)] = [date,comment]\n",
        "    \n",
        "  final_df_newest = pd.concat([comments,final_df_newest])\n",
        "print(final_df_newest.shape[0])"
      ],
      "execution_count": null,
      "outputs": [
        {
          "name": "stdout",
          "output_type": "stream",
          "text": [
            "16400\n"
          ]
        }
      ]
    },
    {
      "cell_type": "code",
      "metadata": {
        "id": "rMwdnYnlvKy4"
      },
      "source": [
        "## Scraping for Old Posts"
      ],
      "execution_count": null,
      "outputs": []
    },
    {
      "cell_type": "code",
      "metadata": {
        "id": "KrKVu9e1yxUI"
      },
      "source": [
        "page_number_list = ['p'+str(x) for x in list(np.arange(330,436))]"
      ],
      "execution_count": null,
      "outputs": []
    },
    {
      "cell_type": "code",
      "metadata": {
        "colab": {
          "base_uri": "https://localhost:8080/"
        },
        "id": "JqEmMEMXyxbU",
        "outputId": "57c55882-f98a-4d1f-e87f-679027ebe925"
      },
      "source": [
        "final_df_oldest = pd.DataFrame()\n",
        "for p in page_number_list:\n",
        "  wd.get('https://forums.edmunds.com/discussion/2864/general/x/entry-level-luxury-performance-sedans/p')\n",
        "\n",
        "  comments = pd.DataFrame(columns = ['Date','comments']) \n",
        "  ids = wd.find_elements_by_xpath(\"//*[contains(@id,'Comment_') and not (contains(@id,'blockquote'))]\")\n",
        "\n",
        "  comment_ids = []\n",
        "  for i in ids:\n",
        "    comment_ids.append(i.get_attribute('id'))\n",
        "\n",
        "  for x in comment_ids:\n",
        "      #Extract dates from for each user on a page\n",
        "      user_date = wd.find_elements_by_xpath('//*[@id=\"'+x+'\"]/div/div[2]/div[2]/span/a/time')[0]\n",
        "      date = user_date.get_attribute('title')\n",
        "\n",
        "      #Extract Message for each user on a page\n",
        "      user_message = wd.find_elements_by_xpath('//*[@id=\"'+x+'\"]/div/div[3]/div/div[1]')[0]\n",
        "      comment = user_message.text\n",
        "                                    \n",
        "      #Adding date, userid and comment for each user in a dataframe    \n",
        "      comments.loc[len(comments)] = [date,comment]\n",
        "    \n",
        "  final_df_oldest = pd.concat([comments,final_df_oldest])\n",
        "print(final_df_oldest.shape[0])"
      ],
      "execution_count": null,
      "outputs": [
        {
          "name": "stdout",
          "output_type": "stream",
          "text": [
            "5300\n"
          ]
        }
      ]
    },
    {
      "cell_type": "code",
      "metadata": {
        "id": "wTliJoLxzL17"
      },
      "source": [
        "master_df = pd.concat([final_df_newest,final_df_oldest])\n",
        "\n",
        "master_df.to_csv(\"results.csv\")\n",
        "!ls\n",
        "from google.colab import files\n",
        "files.download(\"results.csv\")"
      ],
      "execution_count": null,
      "outputs": []
    },
    {
      "cell_type": "code",
      "metadata": {
        "id": "Wi-SuiMW5Ydy"
      },
      "source": [
        "from google.colab import files"
      ],
      "execution_count": 2,
      "outputs": []
    },
    {
      "cell_type": "code",
      "metadata": {
        "id": "e9-SofJjjAC5"
      },
      "source": [
        "files.upload()\n",
        "master_df = pd.read_csv('results (1).csv')"
      ],
      "execution_count": 5,
      "outputs": []
    },
    {
      "cell_type": "code",
      "metadata": {
        "id": "LTg9UvAbj2Mk"
      },
      "source": [
        "# Taking newest 5000 comments\n",
        "newest_df = master_df.tail(5000)"
      ],
      "execution_count": 6,
      "outputs": []
    },
    {
      "cell_type": "markdown",
      "metadata": {
        "id": "z6VxljtIkdSG"
      },
      "source": [
        "# Task A: Test Zipf's Law on the dataset"
      ]
    },
    {
      "cell_type": "code",
      "metadata": {
        "id": "AShukjDPkjFf"
      },
      "source": [
        "import nltk\n",
        "nltk.download('punkt')"
      ],
      "execution_count": null,
      "outputs": []
    },
    {
      "cell_type": "code",
      "metadata": {
        "id": "l9f05welk1Ru"
      },
      "source": [
        "from collections import Counter\n",
        "p = Counter(\" \".join(newest_df['comments']).split()).most_common(100)\n",
        "rslt = pd.DataFrame(p, columns=['Word', 'Frequency'])"
      ],
      "execution_count": 8,
      "outputs": []
    },
    {
      "cell_type": "code",
      "metadata": {
        "id": "S8phx4Ohl6em"
      },
      "source": [
        "import matplotlib.pyplot as plt\n",
        "%matplotlib inline"
      ],
      "execution_count": 9,
      "outputs": []
    },
    {
      "cell_type": "code",
      "metadata": {
        "colab": {
          "base_uri": "https://localhost:8080/",
          "height": 297
        },
        "id": "z7HEM32nlDfK",
        "outputId": "3acd6cd1-2339-414e-bf83-93c318b2a613"
      },
      "source": [
        "plt.plot(rslt.index+1,rslt['Frequency'])\n",
        "plt.xlabel('Rank of a Word')\n",
        "plt.ylabel('Frequency')"
      ],
      "execution_count": 10,
      "outputs": [
        {
          "output_type": "execute_result",
          "data": {
            "text/plain": [
              "Text(0, 0.5, 'Frequency')"
            ]
          },
          "metadata": {},
          "execution_count": 10
        },
        {
          "output_type": "display_data",
          "data": {
            "image/png": "[encoded data removed]",
            "text/plain": [
              "<Figure size 432x288 with 1 Axes>"
            ]
          },
          "metadata": {
            "needs_background": "light"
          }
        }
      ]
    },
    {
      "cell_type": "markdown",
      "metadata": {
        "id": "vqpfXOxZmY5Q"
      },
      "source": [
        "Based on the graph, we can see that rank and frequency of frequency distribution of words follow Zipf's law"
      ]
    },
    {
      "cell_type": "markdown",
      "metadata": {
        "id": "CavuAb2hnE0I"
      },
      "source": [
        "Task B: Find Top 10 Brands"
      ]
    },
    {
      "cell_type": "code",
      "metadata": {
        "id": "k_-O7HHPmnQR"
      },
      "source": [
        "# Remove stop words\n",
        "nltk.download('stopwords')"
      ],
      "execution_count": null,
      "outputs": []
    },
    {
      "cell_type": "code",
      "metadata": {
        "id": "jtcJ65nzohkJ"
      },
      "source": [
        "from nltk.corpus import stopwords"
      ],
      "execution_count": 12,
      "outputs": []
    },
    {
      "cell_type": "code",
      "metadata": {
        "id": "myrFtOdhnmlD"
      },
      "source": [
        "newest_df['comments'] = newest_df['comments'].apply(lambda x: x.lower())\n",
        "newest_df['word_tokens'] = newest_df['comments'].apply(lambda x: nltk.word_tokenize(x))\n",
        "\n",
        "def remove_stopwords(text):\n",
        "  return [word for word in text if word not in stopwords.words('english')]\n",
        "\n",
        "newest_df['comments_new'] = newest_df['word_tokens'].apply(remove_stopwords)\n",
        "newest_df['comments_new'] = [' '.join(x) for x in newest_df['comments_new']]"
      ],
      "execution_count": null,
      "outputs": []
    },
    {
      "cell_type": "code",
      "metadata": {
        "id": "aK-R63JTzPAT"
      },
      "source": [
        "files.upload()\n",
        "car_models = pd.read_csv('car models and brands.csv')"
      ],
      "execution_count": null,
      "outputs": []
    },
    {
      "cell_type": "code",
      "metadata": {
        "id": "LvdC_MURJMd0"
      },
      "source": [
        "## Car Model-Brand cleaning"
      ],
      "execution_count": 15,
      "outputs": []
    },
    {
      "cell_type": "code",
      "metadata": {
        "id": "6xfqQqUmKFRQ"
      },
      "source": [
        "car_models.loc[car_models[car_models['Brand']=='mercedes-benz'].index[0],'Brand'] = 'mercedes'"
      ],
      "execution_count": 16,
      "outputs": []
    },
    {
      "cell_type": "code",
      "metadata": {
        "id": "fORhOfRjy_F_"
      },
      "source": [
        "model_brand_dict = car_models.set_index('Model').to_dict()['Brand']"
      ],
      "execution_count": 17,
      "outputs": []
    },
    {
      "cell_type": "code",
      "metadata": {
        "id": "HCs83fpPy_I1"
      },
      "source": [
        "def replace_model_with_brands(text):\n",
        "  data = text.split()\n",
        "  #print(data)\n",
        "  for idx,word in enumerate(data):\n",
        "    if word in model_brand_dict:\n",
        "      #print(word)\n",
        "      data[idx] = model_brand_dict[word]\n",
        "\n",
        "  data_new = ' '.join(data)\n",
        "  return data_new\n",
        "\n",
        "newest_df['comments_new_brand'] = newest_df['comments_new'].apply(replace_model_with_brands)"
      ],
      "execution_count": null,
      "outputs": []
    },
    {
      "cell_type": "code",
      "metadata": {
        "id": "v9QbdvjV0fk9"
      },
      "source": [
        "p = Counter(\" \".join(newest_df['comments_new_brand']).split()).most_common()\n",
        "rslt_wo_stopwords = pd.DataFrame(p, columns=['Word', 'Frequency'])"
      ],
      "execution_count": 19,
      "outputs": []
    },
    {
      "cell_type": "code",
      "metadata": {
        "colab": {
          "base_uri": "https://localhost:8080/",
          "height": 321
        },
        "id": "lvSffC7S0frm",
        "outputId": "e4874efa-e68b-4805-b701-34e4adf6ab4b"
      },
      "source": [
        "top_10_brands = rslt_wo_stopwords[rslt_wo_stopwords['Word'].isin(car_models['Brand'].unique())]\n",
        "top_10_brands = top_10_brands[~top_10_brands['Word'].isin(['sedan','cars'])][1:11]\n",
        "plt.bar(top_10_brands['Word'],top_10_brands['Frequency'])\n",
        "plt.xticks(rotation='90')"
      ],
      "execution_count": 20,
      "outputs": [
        {
          "output_type": "execute_result",
          "data": {
            "text/plain": [
              "([0, 1, 2, 3, 4, 5, 6, 7, 8, 9], <a list of 10 Text major ticklabel objects>)"
            ]
          },
          "metadata": {},
          "execution_count": 20
        },
        {
          "output_type": "display_data",
          "data": {
            "image/png": "[encoded data removed]",
            "text/plain": [
              "<Figure size 432x288 with 1 Axes>"
            ]
          },
          "metadata": {
            "needs_background": "light"
          }
        }
      ]
    },
    {
      "cell_type": "markdown",
      "metadata": {
        "id": "apLowD-chL7b"
      },
      "source": [
        "Task C"
      ]
    },
    {
      "cell_type": "code",
      "metadata": {
        "id": "Ng0MA_inwgul"
      },
      "source": [
        "newest_df.drop(columns=['word_tokens','comments_new'],inplace=True)"
      ],
      "execution_count": null,
      "outputs": []
    },
    {
      "cell_type": "code",
      "metadata": {
        "id": "FZAlM_hn4w7D"
      },
      "source": [
        "a = pd.DataFrame(top_10_brands['Word'].unique(),columns=['Brand'])\n",
        "a['Key'] = 1\n",
        "b = pd.DataFrame(top_10_brands['Word'].unique(),columns=['Brand'])\n",
        "b['Key'] = 1\n",
        "\n",
        "top_brands_lift = pd.merge(a,b,on='Key',suffixes=['_a','_b'])\n",
        "top_brands_lift.drop(columns=['Key'],inplace=True)\n",
        "\n",
        "top_brands_lift['Lift'] = 0\n",
        "\n",
        "top_brands_lift = top_brands_lift.drop_duplicates()"
      ],
      "execution_count": 22,
      "outputs": []
    },
    {
      "cell_type": "code",
      "metadata": {
        "id": "0Ry94DhA_L4i"
      },
      "source": [
        "for i in range(len(top_brands_lift)):\n",
        "  if (top_brands_lift['Brand_a'][i] == top_brands_lift['Brand_b'][i]):\n",
        "    top_brands_lift.drop(index=i,inplace=True)"
      ],
      "execution_count": 23,
      "outputs": []
    },
    {
      "cell_type": "code",
      "metadata": {
        "id": "qKfbHXrY6RFr"
      },
      "source": [
        "newest_df.reset_index(drop=True,inplace=True)"
      ],
      "execution_count": 24,
      "outputs": []
    },
    {
      "cell_type": "code",
      "metadata": {
        "id": "pnny5aY24xBh"
      },
      "source": [
        "def calc_lift(brands):\n",
        "  x = brands[0]\n",
        "  y = brands[1]\n",
        "  counter_a = 0\n",
        "  counter_b = 0\n",
        "  counter_a_b = 0\n",
        "  for i in range(len(newest_df)):\n",
        "    if str(x) in newest_df['comments_new_brand'][i]:\n",
        "      counter_a+=1\n",
        "    if str(y) in newest_df['comments_new_brand'][i]:\n",
        "      counter_b+=1\n",
        "    if (str(x) in newest_df['comments_new_brand'][i]) & (str(y) in newest_df['comments_new_brand'][i]):\n",
        "      counter_a_b+=1\n",
        "  return ((len(newest_df)*counter_a_b)/(counter_a*counter_b))"
      ],
      "execution_count": 25,
      "outputs": []
    },
    {
      "cell_type": "code",
      "metadata": {
        "id": "TXdQ0H3a4AoH"
      },
      "source": [
        "top_brands_lift['Lift'] = top_brands_lift[['Brand_a','Brand_b']].apply(calc_lift,axis=1)"
      ],
      "execution_count": 26,
      "outputs": []
    },
    {
      "cell_type": "code",
      "metadata": {
        "colab": {
          "base_uri": "https://localhost:8080/",
          "height": 394
        },
        "id": "BXee_9QTHFZI",
        "outputId": "221c0db2-d017-445b-d343-6a3471adc500"
      },
      "source": [
        "lift_matrix = pd.crosstab(top_brands_lift['Brand_a'],top_brands_lift['Brand_b'],aggfunc='sum',values=top_brands_lift['Lift'],dropna=True)\n",
        "lift_matrix"
      ],
      "execution_count": 28,
      "outputs": [
        {
          "output_type": "execute_result",
          "data": {
            "text/html": [
              "<div>\n",
              "<style scoped>\n",
              "    .dataframe tbody tr th:only-of-type {\n",
              "        vertical-align: middle;\n",
              "    }\n",
              "\n",
              "    .dataframe tbody tr th {\n",
              "        vertical-align: top;\n",
              "    }\n",
              "\n",
              "    .dataframe thead th {\n",
              "        text-align: right;\n",
              "    }\n",
              "</style>\n",
              "<table border=\"1\" class=\"dataframe\">\n",
              "  <thead>\n",
              "    <tr style=\"text-align: right;\">\n",
              "      <th>Brand_b</th>\n",
              "      <th>acura</th>\n",
              "      <th>audi</th>\n",
              "      <th>bmw</th>\n",
              "      <th>chrysler</th>\n",
              "      <th>ford</th>\n",
              "      <th>honda</th>\n",
              "      <th>infiniti</th>\n",
              "      <th>mercedes</th>\n",
              "      <th>nissan</th>\n",
              "      <th>toyota</th>\n",
              "    </tr>\n",
              "    <tr>\n",
              "      <th>Brand_a</th>\n",
              "      <th></th>\n",
              "      <th></th>\n",
              "      <th></th>\n",
              "      <th></th>\n",
              "      <th></th>\n",
              "      <th></th>\n",
              "      <th></th>\n",
              "      <th></th>\n",
              "      <th></th>\n",
              "      <th></th>\n",
              "    </tr>\n",
              "  </thead>\n",
              "  <tbody>\n",
              "    <tr>\n",
              "      <th>acura</th>\n",
              "      <td>NaN</td>\n",
              "      <td>1.704545</td>\n",
              "      <td>1.339286</td>\n",
              "      <td>1.250000</td>\n",
              "      <td>1.562500</td>\n",
              "      <td>2.083333</td>\n",
              "      <td>1.388889</td>\n",
              "      <td>1.562500</td>\n",
              "      <td>1.250000</td>\n",
              "      <td>1.562500</td>\n",
              "    </tr>\n",
              "    <tr>\n",
              "      <th>audi</th>\n",
              "      <td>1.704545</td>\n",
              "      <td>NaN</td>\n",
              "      <td>1.623377</td>\n",
              "      <td>0.909091</td>\n",
              "      <td>1.136364</td>\n",
              "      <td>0.000000</td>\n",
              "      <td>1.515152</td>\n",
              "      <td>2.272727</td>\n",
              "      <td>0.909091</td>\n",
              "      <td>1.136364</td>\n",
              "    </tr>\n",
              "    <tr>\n",
              "      <th>bmw</th>\n",
              "      <td>1.339286</td>\n",
              "      <td>1.623377</td>\n",
              "      <td>NaN</td>\n",
              "      <td>1.428571</td>\n",
              "      <td>2.678571</td>\n",
              "      <td>0.000000</td>\n",
              "      <td>1.984127</td>\n",
              "      <td>0.892857</td>\n",
              "      <td>2.857143</td>\n",
              "      <td>1.339286</td>\n",
              "    </tr>\n",
              "    <tr>\n",
              "      <th>chrysler</th>\n",
              "      <td>1.250000</td>\n",
              "      <td>0.909091</td>\n",
              "      <td>1.428571</td>\n",
              "      <td>NaN</td>\n",
              "      <td>5.000000</td>\n",
              "      <td>6.666667</td>\n",
              "      <td>1.111111</td>\n",
              "      <td>5.000000</td>\n",
              "      <td>4.000000</td>\n",
              "      <td>5.000000</td>\n",
              "    </tr>\n",
              "    <tr>\n",
              "      <th>ford</th>\n",
              "      <td>1.562500</td>\n",
              "      <td>1.136364</td>\n",
              "      <td>2.678571</td>\n",
              "      <td>5.000000</td>\n",
              "      <td>NaN</td>\n",
              "      <td>4.166667</td>\n",
              "      <td>1.388889</td>\n",
              "      <td>3.125000</td>\n",
              "      <td>5.000000</td>\n",
              "      <td>3.125000</td>\n",
              "    </tr>\n",
              "    <tr>\n",
              "      <th>honda</th>\n",
              "      <td>2.083333</td>\n",
              "      <td>0.000000</td>\n",
              "      <td>0.000000</td>\n",
              "      <td>6.666667</td>\n",
              "      <td>4.166667</td>\n",
              "      <td>NaN</td>\n",
              "      <td>0.000000</td>\n",
              "      <td>4.166667</td>\n",
              "      <td>3.333333</td>\n",
              "      <td>4.166667</td>\n",
              "    </tr>\n",
              "    <tr>\n",
              "      <th>infiniti</th>\n",
              "      <td>1.388889</td>\n",
              "      <td>1.515152</td>\n",
              "      <td>1.984127</td>\n",
              "      <td>1.111111</td>\n",
              "      <td>1.388889</td>\n",
              "      <td>0.000000</td>\n",
              "      <td>NaN</td>\n",
              "      <td>0.000000</td>\n",
              "      <td>2.222222</td>\n",
              "      <td>0.694444</td>\n",
              "    </tr>\n",
              "    <tr>\n",
              "      <th>mercedes</th>\n",
              "      <td>1.562500</td>\n",
              "      <td>2.272727</td>\n",
              "      <td>0.892857</td>\n",
              "      <td>5.000000</td>\n",
              "      <td>3.125000</td>\n",
              "      <td>4.166667</td>\n",
              "      <td>0.000000</td>\n",
              "      <td>NaN</td>\n",
              "      <td>2.500000</td>\n",
              "      <td>3.125000</td>\n",
              "    </tr>\n",
              "    <tr>\n",
              "      <th>nissan</th>\n",
              "      <td>1.250000</td>\n",
              "      <td>0.909091</td>\n",
              "      <td>2.857143</td>\n",
              "      <td>4.000000</td>\n",
              "      <td>5.000000</td>\n",
              "      <td>3.333333</td>\n",
              "      <td>2.222222</td>\n",
              "      <td>2.500000</td>\n",
              "      <td>NaN</td>\n",
              "      <td>2.500000</td>\n",
              "    </tr>\n",
              "    <tr>\n",
              "      <th>toyota</th>\n",
              "      <td>1.562500</td>\n",
              "      <td>1.136364</td>\n",
              "      <td>1.339286</td>\n",
              "      <td>5.000000</td>\n",
              "      <td>3.125000</td>\n",
              "      <td>4.166667</td>\n",
              "      <td>0.694444</td>\n",
              "      <td>3.125000</td>\n",
              "      <td>2.500000</td>\n",
              "      <td>NaN</td>\n",
              "    </tr>\n",
              "  </tbody>\n",
              "</table>\n",
              "</div>"
            ],
            "text/plain": [
              "Brand_b      acura      audi       bmw  ...  mercedes    nissan    toyota\n",
              "Brand_a                                 ...                              \n",
              "acura          NaN  1.704545  1.339286  ...  1.562500  1.250000  1.562500\n",
              "audi      1.704545       NaN  1.623377  ...  2.272727  0.909091  1.136364\n",
              "bmw       1.339286  1.623377       NaN  ...  0.892857  2.857143  1.339286\n",
              "chrysler  1.250000  0.909091  1.428571  ...  5.000000  4.000000  5.000000\n",
              "ford      1.562500  1.136364  2.678571  ...  3.125000  5.000000  3.125000\n",
              "honda     2.083333  0.000000  0.000000  ...  4.166667  3.333333  4.166667\n",
              "infiniti  1.388889  1.515152  1.984127  ...  0.000000  2.222222  0.694444\n",
              "mercedes  1.562500  2.272727  0.892857  ...       NaN  2.500000  3.125000\n",
              "nissan    1.250000  0.909091  2.857143  ...  2.500000       NaN  2.500000\n",
              "toyota    1.562500  1.136364  1.339286  ...  3.125000  2.500000       NaN\n",
              "\n",
              "[10 rows x 10 columns]"
            ]
          },
          "metadata": {},
          "execution_count": 28
        }
      ]
    },
    {
      "cell_type": "code",
      "metadata": {
        "id": "bibewVgp8RuP"
      },
      "source": [
        "top_brands_lift['Distance'] = 1/(top_brands_lift['Lift']+.1)"
      ],
      "execution_count": 29,
      "outputs": []
    },
    {
      "cell_type": "code",
      "metadata": {
        "colab": {
          "base_uri": "https://localhost:8080/",
          "height": 394
        },
        "id": "YHxeCMUFwwff",
        "outputId": "9c5c6e0e-49b1-4782-b0bd-f9d93481fcfc"
      },
      "source": [
        "dis_matrix = pd.crosstab(top_brands_lift['Brand_a'],top_brands_lift['Brand_b'],aggfunc='sum',values=top_brands_lift['Distance'],dropna=True).fillna(0)\n",
        "dis_matrix"
      ],
      "execution_count": 30,
      "outputs": [
        {
          "output_type": "execute_result",
          "data": {
            "text/html": [
              "<div>\n",
              "<style scoped>\n",
              "    .dataframe tbody tr th:only-of-type {\n",
              "        vertical-align: middle;\n",
              "    }\n",
              "\n",
              "    .dataframe tbody tr th {\n",
              "        vertical-align: top;\n",
              "    }\n",
              "\n",
              "    .dataframe thead th {\n",
              "        text-align: right;\n",
              "    }\n",
              "</style>\n",
              "<table border=\"1\" class=\"dataframe\">\n",
              "  <thead>\n",
              "    <tr style=\"text-align: right;\">\n",
              "      <th>Brand_b</th>\n",
              "      <th>acura</th>\n",
              "      <th>audi</th>\n",
              "      <th>bmw</th>\n",
              "      <th>chrysler</th>\n",
              "      <th>ford</th>\n",
              "      <th>honda</th>\n",
              "      <th>infiniti</th>\n",
              "      <th>mercedes</th>\n",
              "      <th>nissan</th>\n",
              "      <th>toyota</th>\n",
              "    </tr>\n",
              "    <tr>\n",
              "      <th>Brand_a</th>\n",
              "      <th></th>\n",
              "      <th></th>\n",
              "      <th></th>\n",
              "      <th></th>\n",
              "      <th></th>\n",
              "      <th></th>\n",
              "      <th></th>\n",
              "      <th></th>\n",
              "      <th></th>\n",
              "      <th></th>\n",
              "    </tr>\n",
              "  </thead>\n",
              "  <tbody>\n",
              "    <tr>\n",
              "      <th>acura</th>\n",
              "      <td>0.000000</td>\n",
              "      <td>0.554156</td>\n",
              "      <td>0.694789</td>\n",
              "      <td>0.740741</td>\n",
              "      <td>0.601504</td>\n",
              "      <td>0.458015</td>\n",
              "      <td>0.671642</td>\n",
              "      <td>0.601504</td>\n",
              "      <td>0.740741</td>\n",
              "      <td>0.601504</td>\n",
              "    </tr>\n",
              "    <tr>\n",
              "      <th>audi</th>\n",
              "      <td>0.554156</td>\n",
              "      <td>0.000000</td>\n",
              "      <td>0.580256</td>\n",
              "      <td>0.990991</td>\n",
              "      <td>0.808824</td>\n",
              "      <td>10.000000</td>\n",
              "      <td>0.619137</td>\n",
              "      <td>0.421456</td>\n",
              "      <td>0.990991</td>\n",
              "      <td>0.808824</td>\n",
              "    </tr>\n",
              "    <tr>\n",
              "      <th>bmw</th>\n",
              "      <td>0.694789</td>\n",
              "      <td>0.580256</td>\n",
              "      <td>0.000000</td>\n",
              "      <td>0.654206</td>\n",
              "      <td>0.359897</td>\n",
              "      <td>10.000000</td>\n",
              "      <td>0.479817</td>\n",
              "      <td>1.007194</td>\n",
              "      <td>0.338164</td>\n",
              "      <td>0.694789</td>\n",
              "    </tr>\n",
              "    <tr>\n",
              "      <th>chrysler</th>\n",
              "      <td>0.740741</td>\n",
              "      <td>0.990991</td>\n",
              "      <td>0.654206</td>\n",
              "      <td>0.000000</td>\n",
              "      <td>0.196078</td>\n",
              "      <td>0.147783</td>\n",
              "      <td>0.825688</td>\n",
              "      <td>0.196078</td>\n",
              "      <td>0.243902</td>\n",
              "      <td>0.196078</td>\n",
              "    </tr>\n",
              "    <tr>\n",
              "      <th>ford</th>\n",
              "      <td>0.601504</td>\n",
              "      <td>0.808824</td>\n",
              "      <td>0.359897</td>\n",
              "      <td>0.196078</td>\n",
              "      <td>0.000000</td>\n",
              "      <td>0.234375</td>\n",
              "      <td>0.671642</td>\n",
              "      <td>0.310078</td>\n",
              "      <td>0.196078</td>\n",
              "      <td>0.310078</td>\n",
              "    </tr>\n",
              "    <tr>\n",
              "      <th>honda</th>\n",
              "      <td>0.458015</td>\n",
              "      <td>10.000000</td>\n",
              "      <td>10.000000</td>\n",
              "      <td>0.147783</td>\n",
              "      <td>0.234375</td>\n",
              "      <td>0.000000</td>\n",
              "      <td>10.000000</td>\n",
              "      <td>0.234375</td>\n",
              "      <td>0.291262</td>\n",
              "      <td>0.234375</td>\n",
              "    </tr>\n",
              "    <tr>\n",
              "      <th>infiniti</th>\n",
              "      <td>0.671642</td>\n",
              "      <td>0.619137</td>\n",
              "      <td>0.479817</td>\n",
              "      <td>0.825688</td>\n",
              "      <td>0.671642</td>\n",
              "      <td>10.000000</td>\n",
              "      <td>0.000000</td>\n",
              "      <td>10.000000</td>\n",
              "      <td>0.430622</td>\n",
              "      <td>1.258741</td>\n",
              "    </tr>\n",
              "    <tr>\n",
              "      <th>mercedes</th>\n",
              "      <td>0.601504</td>\n",
              "      <td>0.421456</td>\n",
              "      <td>1.007194</td>\n",
              "      <td>0.196078</td>\n",
              "      <td>0.310078</td>\n",
              "      <td>0.234375</td>\n",
              "      <td>10.000000</td>\n",
              "      <td>0.000000</td>\n",
              "      <td>0.384615</td>\n",
              "      <td>0.310078</td>\n",
              "    </tr>\n",
              "    <tr>\n",
              "      <th>nissan</th>\n",
              "      <td>0.740741</td>\n",
              "      <td>0.990991</td>\n",
              "      <td>0.338164</td>\n",
              "      <td>0.243902</td>\n",
              "      <td>0.196078</td>\n",
              "      <td>0.291262</td>\n",
              "      <td>0.430622</td>\n",
              "      <td>0.384615</td>\n",
              "      <td>0.000000</td>\n",
              "      <td>0.384615</td>\n",
              "    </tr>\n",
              "    <tr>\n",
              "      <th>toyota</th>\n",
              "      <td>0.601504</td>\n",
              "      <td>0.808824</td>\n",
              "      <td>0.694789</td>\n",
              "      <td>0.196078</td>\n",
              "      <td>0.310078</td>\n",
              "      <td>0.234375</td>\n",
              "      <td>1.258741</td>\n",
              "      <td>0.310078</td>\n",
              "      <td>0.384615</td>\n",
              "      <td>0.000000</td>\n",
              "    </tr>\n",
              "  </tbody>\n",
              "</table>\n",
              "</div>"
            ],
            "text/plain": [
              "Brand_b      acura       audi        bmw  ...   mercedes    nissan    toyota\n",
              "Brand_a                                   ...                               \n",
              "acura     0.000000   0.554156   0.694789  ...   0.601504  0.740741  0.601504\n",
              "audi      0.554156   0.000000   0.580256  ...   0.421456  0.990991  0.808824\n",
              "bmw       0.694789   0.580256   0.000000  ...   1.007194  0.338164  0.694789\n",
              "chrysler  0.740741   0.990991   0.654206  ...   0.196078  0.243902  0.196078\n",
              "ford      0.601504   0.808824   0.359897  ...   0.310078  0.196078  0.310078\n",
              "honda     0.458015  10.000000  10.000000  ...   0.234375  0.291262  0.234375\n",
              "infiniti  0.671642   0.619137   0.479817  ...  10.000000  0.430622  1.258741\n",
              "mercedes  0.601504   0.421456   1.007194  ...   0.000000  0.384615  0.310078\n",
              "nissan    0.740741   0.990991   0.338164  ...   0.384615  0.000000  0.384615\n",
              "toyota    0.601504   0.808824   0.694789  ...   0.310078  0.384615  0.000000\n",
              "\n",
              "[10 rows x 10 columns]"
            ]
          },
          "metadata": {},
          "execution_count": 30
        }
      ]
    },
    {
      "cell_type": "markdown",
      "metadata": {
        "id": "HE7gc640D6xZ"
      },
      "source": [
        "Task D"
      ]
    },
    {
      "cell_type": "code",
      "metadata": {
        "id": "h3YXiKloz9G4"
      },
      "source": [
        "from sklearn.manifold import MDS"
      ],
      "execution_count": 32,
      "outputs": []
    },
    {
      "cell_type": "code",
      "metadata": {
        "id": "8_J19ehDFcCl"
      },
      "source": [
        "mds_plot = MDS(2,random_state=42)\n",
        "mds = mds_plot.fit_transform(dis_matrix)"
      ],
      "execution_count": null,
      "outputs": []
    },
    {
      "cell_type": "code",
      "metadata": {
        "colab": {
          "base_uri": "https://localhost:8080/",
          "height": 592
        },
        "id": "oEW3yBK0HC9X",
        "outputId": "7a3268f4-484a-4c7a-fea2-7ee38c8da8f4"
      },
      "source": [
        "import random\n",
        "x = [row[0] for row in mds]\n",
        "y = [row[1] for row in mds]\n",
        "plt.figure(figsize=(20,10))\n",
        "plt.scatter(x,y)\n",
        "\n",
        "for brand,a,b in zip(dis_matrix.index,x,y): \n",
        "  alpha = 0.05 \n",
        "  plt.text(a+alpha,b+alpha,str(brand))"
      ],
      "execution_count": 37,
      "outputs": [
        {
          "output_type": "display_data",
          "data": {
            "image/png": "[encoded data removed]",
            "text/plain": [
              "<Figure size 1440x720 with 1 Axes>"
            ]
          },
          "metadata": {
            "needs_background": "light"
          }
        }
      ]
    },
    {
      "cell_type": "markdown",
      "metadata": {
        "id": "Dh-uxH_eMrgF"
      },
      "source": [
        "Task E\n",
        "1. Based on Lift Table and MDS plot of the dissimilarity matrix, we can say there is a strong comenton of bmw and audi with nissan, ford, acura and chrysler. \n",
        "2. mercedes is at the far end which shows that it doesn't have many comentions with other brands. Similary infinity is at the other end of the matrix."
      ]
    },
    {
      "cell_type": "markdown",
      "metadata": {
        "id": "Y4Isqj7fNMBQ"
      },
      "source": [
        "Task F"
      ]
    },
    {
      "cell_type": "code",
      "metadata": {
        "id": "x76QMIluLspB"
      },
      "source": [
        "newest_df['word_tokens'] = newest_df['comments_new_brand'].apply(lambda x: nltk.word_tokenize(x))"
      ],
      "execution_count": null,
      "outputs": []
    },
    {
      "cell_type": "code",
      "metadata": {
        "colab": {
          "base_uri": "https://localhost:8080/"
        },
        "id": "gOrGA2EPRU5P",
        "outputId": "ec9545cb-e549-4bcd-c7d7-0d65b922136f"
      },
      "source": [
        "top_5_features = Counter(\" \".join(newest_df['comments_new_brand']).split()).most_common(50)\n",
        "top_5_features"
      ],
      "execution_count": 39,
      "outputs": [
        {
          "output_type": "execute_result",
          "data": {
            "text/plain": [
              "[('.', 34500),\n",
              " (',', 25700),\n",
              " ('car', 7200),\n",
              " (\"n't\", 4300),\n",
              " (')', 4200),\n",
              " (\"'s\", 4000),\n",
              " ('(', 3700),\n",
              " ('?', 3600),\n",
              " ('bmw', 3500),\n",
              " ('audi', 2800),\n",
              " ('manual', 2600),\n",
              " ('performance', 2400),\n",
              " ('get', 2300),\n",
              " ('!', 2200),\n",
              " ('new', 2100),\n",
              " ('steering', 2100),\n",
              " ('also', 2000),\n",
              " ('one', 2000),\n",
              " ('g35', 2000),\n",
              " ('sedan', 1900),\n",
              " ('...', 1900),\n",
              " ('would', 1800),\n",
              " (\"''\", 1800),\n",
              " ('better', 1700),\n",
              " ('drive', 1700),\n",
              " ('think', 1600),\n",
              " (\"'m\", 1600),\n",
              " ('tl', 1600),\n",
              " ('``', 1500),\n",
              " ('like', 1500),\n",
              " ('s4', 1500),\n",
              " ('nissan', 1500),\n",
              " ('luxury', 1400),\n",
              " ('even', 1400),\n",
              " ('infiniti', 1400),\n",
              " ('price', 1300),\n",
              " ('good', 1300),\n",
              " ('looking', 1300),\n",
              " ('-', 1300),\n",
              " ('engine', 1200),\n",
              " ('lexus', 1200),\n",
              " ('torque', 1200),\n",
              " ('best', 1100),\n",
              " ('fwd', 1100),\n",
              " ('toyota', 1100),\n",
              " (':', 1100),\n",
              " ('want', 1100),\n",
              " ('interior', 1000),\n",
              " ('es300', 1000),\n",
              " ('right', 1000)]"
            ]
          },
          "metadata": {},
          "execution_count": 39
        }
      ]
    },
    {
      "cell_type": "code",
      "metadata": {
        "id": "dSV4OA06RoE9"
      },
      "source": [
        "top_5_features_list = ['manual','performance','steering','luxury','engine']"
      ],
      "execution_count": 40,
      "outputs": []
    },
    {
      "cell_type": "code",
      "metadata": {
        "id": "AgEKD9u6SNFm"
      },
      "source": [
        "# Lift Analysis of Top 5 features with Top 10 Brands"
      ],
      "execution_count": 41,
      "outputs": []
    },
    {
      "cell_type": "code",
      "metadata": {
        "id": "h4WK7QFESUM0"
      },
      "source": [
        "a = pd.DataFrame(top_10_brands['Word'].unique(),columns=['Brand_a'])\n",
        "a['Key'] = 1\n",
        "\n",
        "b = pd.DataFrame(top_5_features_list,columns=['features'])\n",
        "b['Key'] = 1\n",
        "\n",
        "brand_features = pd.merge(a,b,on='Key')\n",
        "brand_features.drop(columns=['Key'],inplace=True)\n",
        "\n",
        "brand_features['Lift'] = 0"
      ],
      "execution_count": 42,
      "outputs": []
    },
    {
      "cell_type": "code",
      "metadata": {
        "id": "Z7KdYO_LSWco"
      },
      "source": [
        "brand_features['Lift'] = brand_features[['Brand_a','features']].apply(calc_lift,axis=1)"
      ],
      "execution_count": 43,
      "outputs": []
    },
    {
      "cell_type": "code",
      "metadata": {
        "colab": {
          "base_uri": "https://localhost:8080/",
          "height": 394
        },
        "id": "4o3RmvpRHv1m",
        "outputId": "b3c0bc3c-7bcc-42b1-f827-ac6fd7174d34"
      },
      "source": [
        "lift_matrix = pd.crosstab(brand_features['Brand_a'],brand_features['features'],aggfunc='sum',values=brand_features['Lift'],dropna=True)\n",
        "lift_matrix"
      ],
      "execution_count": 46,
      "outputs": [
        {
          "output_type": "execute_result",
          "data": {
            "text/html": [
              "<div>\n",
              "<style scoped>\n",
              "    .dataframe tbody tr th:only-of-type {\n",
              "        vertical-align: middle;\n",
              "    }\n",
              "\n",
              "    .dataframe tbody tr th {\n",
              "        vertical-align: top;\n",
              "    }\n",
              "\n",
              "    .dataframe thead th {\n",
              "        text-align: right;\n",
              "    }\n",
              "</style>\n",
              "<table border=\"1\" class=\"dataframe\">\n",
              "  <thead>\n",
              "    <tr style=\"text-align: right;\">\n",
              "      <th>features</th>\n",
              "      <th>engine</th>\n",
              "      <th>luxury</th>\n",
              "      <th>manual</th>\n",
              "      <th>performance</th>\n",
              "      <th>steering</th>\n",
              "    </tr>\n",
              "    <tr>\n",
              "      <th>Brand_a</th>\n",
              "      <th></th>\n",
              "      <th></th>\n",
              "      <th></th>\n",
              "      <th></th>\n",
              "      <th></th>\n",
              "    </tr>\n",
              "  </thead>\n",
              "  <tbody>\n",
              "    <tr>\n",
              "      <th>acura</th>\n",
              "      <td>1.388889</td>\n",
              "      <td>1.875000</td>\n",
              "      <td>0.416667</td>\n",
              "      <td>1.041667</td>\n",
              "      <td>3.125000</td>\n",
              "    </tr>\n",
              "    <tr>\n",
              "      <th>audi</th>\n",
              "      <td>1.010101</td>\n",
              "      <td>2.272727</td>\n",
              "      <td>0.909091</td>\n",
              "      <td>1.515152</td>\n",
              "      <td>1.136364</td>\n",
              "    </tr>\n",
              "    <tr>\n",
              "      <th>bmw</th>\n",
              "      <td>1.587302</td>\n",
              "      <td>2.142857</td>\n",
              "      <td>1.666667</td>\n",
              "      <td>1.785714</td>\n",
              "      <td>1.339286</td>\n",
              "    </tr>\n",
              "    <tr>\n",
              "      <th>chrysler</th>\n",
              "      <td>1.111111</td>\n",
              "      <td>1.000000</td>\n",
              "      <td>0.000000</td>\n",
              "      <td>1.666667</td>\n",
              "      <td>2.500000</td>\n",
              "    </tr>\n",
              "    <tr>\n",
              "      <th>ford</th>\n",
              "      <td>2.777778</td>\n",
              "      <td>2.500000</td>\n",
              "      <td>0.833333</td>\n",
              "      <td>2.083333</td>\n",
              "      <td>1.562500</td>\n",
              "    </tr>\n",
              "    <tr>\n",
              "      <th>honda</th>\n",
              "      <td>0.000000</td>\n",
              "      <td>0.000000</td>\n",
              "      <td>0.000000</td>\n",
              "      <td>1.851852</td>\n",
              "      <td>0.000000</td>\n",
              "    </tr>\n",
              "    <tr>\n",
              "      <th>infiniti</th>\n",
              "      <td>1.234568</td>\n",
              "      <td>1.666667</td>\n",
              "      <td>1.481481</td>\n",
              "      <td>0.925926</td>\n",
              "      <td>0.694444</td>\n",
              "    </tr>\n",
              "    <tr>\n",
              "      <th>mercedes</th>\n",
              "      <td>2.777778</td>\n",
              "      <td>1.250000</td>\n",
              "      <td>0.000000</td>\n",
              "      <td>1.388889</td>\n",
              "      <td>1.562500</td>\n",
              "    </tr>\n",
              "    <tr>\n",
              "      <th>nissan</th>\n",
              "      <td>1.111111</td>\n",
              "      <td>2.000000</td>\n",
              "      <td>0.666667</td>\n",
              "      <td>1.666667</td>\n",
              "      <td>1.250000</td>\n",
              "    </tr>\n",
              "    <tr>\n",
              "      <th>toyota</th>\n",
              "      <td>0.694444</td>\n",
              "      <td>1.250000</td>\n",
              "      <td>0.833333</td>\n",
              "      <td>1.388889</td>\n",
              "      <td>1.562500</td>\n",
              "    </tr>\n",
              "  </tbody>\n",
              "</table>\n",
              "</div>"
            ],
            "text/plain": [
              "features    engine    luxury    manual  performance  steering\n",
              "Brand_a                                                      \n",
              "acura     1.388889  1.875000  0.416667     1.041667  3.125000\n",
              "audi      1.010101  2.272727  0.909091     1.515152  1.136364\n",
              "bmw       1.587302  2.142857  1.666667     1.785714  1.339286\n",
              "chrysler  1.111111  1.000000  0.000000     1.666667  2.500000\n",
              "ford      2.777778  2.500000  0.833333     2.083333  1.562500\n",
              "honda     0.000000  0.000000  0.000000     1.851852  0.000000\n",
              "infiniti  1.234568  1.666667  1.481481     0.925926  0.694444\n",
              "mercedes  2.777778  1.250000  0.000000     1.388889  1.562500\n",
              "nissan    1.111111  2.000000  0.666667     1.666667  1.250000\n",
              "toyota    0.694444  1.250000  0.833333     1.388889  1.562500"
            ]
          },
          "metadata": {},
          "execution_count": 46
        }
      ]
    },
    {
      "cell_type": "code",
      "metadata": {
        "colab": {
          "base_uri": "https://localhost:8080/",
          "height": 363
        },
        "id": "F0kCF9_ETzTp",
        "outputId": "c379d585-1a6e-4359-b6a0-b0fcacd0f0d4"
      },
      "source": [
        "brand_features.loc[brand_features.groupby(['Brand_a'])['Lift'].idxmax()]"
      ],
      "execution_count": 47,
      "outputs": [
        {
          "output_type": "execute_result",
          "data": {
            "text/html": [
              "<div>\n",
              "<style scoped>\n",
              "    .dataframe tbody tr th:only-of-type {\n",
              "        vertical-align: middle;\n",
              "    }\n",
              "\n",
              "    .dataframe tbody tr th {\n",
              "        vertical-align: top;\n",
              "    }\n",
              "\n",
              "    .dataframe thead th {\n",
              "        text-align: right;\n",
              "    }\n",
              "</style>\n",
              "<table border=\"1\" class=\"dataframe\">\n",
              "  <thead>\n",
              "    <tr style=\"text-align: right;\">\n",
              "      <th></th>\n",
              "      <th>Brand_a</th>\n",
              "      <th>features</th>\n",
              "      <th>Lift</th>\n",
              "    </tr>\n",
              "  </thead>\n",
              "  <tbody>\n",
              "    <tr>\n",
              "      <th>32</th>\n",
              "      <td>acura</td>\n",
              "      <td>steering</td>\n",
              "      <td>3.125000</td>\n",
              "    </tr>\n",
              "    <tr>\n",
              "      <th>8</th>\n",
              "      <td>audi</td>\n",
              "      <td>luxury</td>\n",
              "      <td>2.272727</td>\n",
              "    </tr>\n",
              "    <tr>\n",
              "      <th>3</th>\n",
              "      <td>bmw</td>\n",
              "      <td>luxury</td>\n",
              "      <td>2.142857</td>\n",
              "    </tr>\n",
              "    <tr>\n",
              "      <th>37</th>\n",
              "      <td>chrysler</td>\n",
              "      <td>steering</td>\n",
              "      <td>2.500000</td>\n",
              "    </tr>\n",
              "    <tr>\n",
              "      <th>44</th>\n",
              "      <td>ford</td>\n",
              "      <td>engine</td>\n",
              "      <td>2.777778</td>\n",
              "    </tr>\n",
              "    <tr>\n",
              "      <th>46</th>\n",
              "      <td>honda</td>\n",
              "      <td>performance</td>\n",
              "      <td>1.851852</td>\n",
              "    </tr>\n",
              "    <tr>\n",
              "      <th>18</th>\n",
              "      <td>infiniti</td>\n",
              "      <td>luxury</td>\n",
              "      <td>1.666667</td>\n",
              "    </tr>\n",
              "    <tr>\n",
              "      <th>29</th>\n",
              "      <td>mercedes</td>\n",
              "      <td>engine</td>\n",
              "      <td>2.777778</td>\n",
              "    </tr>\n",
              "    <tr>\n",
              "      <th>13</th>\n",
              "      <td>nissan</td>\n",
              "      <td>luxury</td>\n",
              "      <td>2.000000</td>\n",
              "    </tr>\n",
              "    <tr>\n",
              "      <th>22</th>\n",
              "      <td>toyota</td>\n",
              "      <td>steering</td>\n",
              "      <td>1.562500</td>\n",
              "    </tr>\n",
              "  </tbody>\n",
              "</table>\n",
              "</div>"
            ],
            "text/plain": [
              "     Brand_a     features      Lift\n",
              "32     acura     steering  3.125000\n",
              "8       audi       luxury  2.272727\n",
              "3        bmw       luxury  2.142857\n",
              "37  chrysler     steering  2.500000\n",
              "44      ford       engine  2.777778\n",
              "46     honda  performance  1.851852\n",
              "18  infiniti       luxury  1.666667\n",
              "29  mercedes       engine  2.777778\n",
              "13    nissan       luxury  2.000000\n",
              "22    toyota     steering  1.562500"
            ]
          },
          "metadata": {},
          "execution_count": 47
        }
      ]
    },
    {
      "cell_type": "markdown",
      "metadata": {
        "id": "ZMiLD-yZUx7v"
      },
      "source": [
        "Task G\n",
        "\n",
        "Based on the Lift analysis of top 10 brands and top 5 most talked about features, we can see that audi, bmw, infiniti and nissan have luxury as their features while mercedes has engine as the most talked about."
      ]
    },
    {
      "cell_type": "markdown",
      "metadata": {
        "id": "l3NRB_YmVLqf"
      },
      "source": [
        "**Task** H"
      ]
    },
    {
      "cell_type": "markdown",
      "metadata": {
        "id": "jueu3vIpIB6K"
      },
      "source": [
        "To find the most aspirational brand, we find words synonymous with aspire or aspirational and see which brand is associated with aspirational words the most."
      ]
    },
    {
      "cell_type": "code",
      "metadata": {
        "id": "hXN8S_8sdu_k"
      },
      "source": [
        "lt_asp_wrds=['desire to','desirable','fancy car','eager to buy','would like to buy','love to have',\n",
        "             'dream car','really want','future car','dream of',\"cant wait to buy\",'would love to buy',\n",
        "             'wish to buy','want to buy','aspire to','future car','thinking to buy','love to buy',\n",
        "             'want to own','love to own','like to own','have to own','nice to own','nice to buy',\n",
        "             'have to buy','would love to buy','would like to buy','wish to own','looking to buy',\n",
        "             'looking forward to buy']"
      ],
      "execution_count": 49,
      "outputs": []
    },
    {
      "cell_type": "code",
      "metadata": {
        "id": "wLdyoj4gITDJ"
      },
      "source": [
        "pattern='|'.join(lt_asp_wrds)\n",
        "\n",
        "newest_df['msg_aspire']=newest_df['comments_new_brand'].str.replace(pattern,'aspire')"
      ],
      "execution_count": null,
      "outputs": []
    },
    {
      "cell_type": "code",
      "metadata": {
        "id": "XsexYFzsJ_CQ"
      },
      "source": [
        "newest_df['msg_aspire'][0].split(' ')"
      ],
      "execution_count": null,
      "outputs": []
    },
    {
      "cell_type": "code",
      "metadata": {
        "id": "u-qxOhaBIqn4"
      },
      "source": [
        "def calc_lift_aspire(brands):\n",
        "  x = brands[0]\n",
        "  y = brands[1]\n",
        "  counter_a = 0\n",
        "  counter_b = 0\n",
        "  counter_a_b = 0\n",
        "  for i in range(len(newest_df)):\n",
        "    if str(x) in newest_df['msg_aspire'][i]:\n",
        "      counter_a+=1\n",
        "    if str(y) in newest_df['msg_aspire'][i]:\n",
        "      counter_b+=1\n",
        "    if (str(x) in newest_df['msg_aspire'][i]) & (str(y) in newest_df['msg_aspire'][i]):\n",
        "      counter_a_b+=1\n",
        "  return ((len(newest_df)*counter_a_b)/(counter_a*counter_b))"
      ],
      "execution_count": 56,
      "outputs": []
    },
    {
      "cell_type": "code",
      "metadata": {
        "id": "tZCsEunoI0aP"
      },
      "source": [
        "a = pd.DataFrame(top_10_brands['Word'].unique(),columns=['Brand_a'])\n",
        "a['Key'] = 1\n",
        "\n",
        "b = pd.DataFrame(['aspire'],columns=['aspirational'])\n",
        "b['Key'] = 1\n",
        "\n",
        "aspirational_brand = pd.merge(a,b,on='Key')\n",
        "aspirational_brand.drop(columns=['Key'],inplace=True)\n",
        "\n",
        "aspirational_brand['Lift'] = 0"
      ],
      "execution_count": 57,
      "outputs": []
    },
    {
      "cell_type": "code",
      "metadata": {
        "colab": {
          "base_uri": "https://localhost:8080/",
          "height": 363
        },
        "id": "6WSDrPu2JJgA",
        "outputId": "1d7e229a-fe93-4870-930e-d1b19f014c46"
      },
      "source": [
        "aspirational_brand['Lift'] = aspirational_brand[['Brand_a','aspirational']].apply(calc_lift_aspire,axis=1)\n",
        "aspirational_brand"
      ],
      "execution_count": 58,
      "outputs": [
        {
          "output_type": "execute_result",
          "data": {
            "text/html": [
              "<div>\n",
              "<style scoped>\n",
              "    .dataframe tbody tr th:only-of-type {\n",
              "        vertical-align: middle;\n",
              "    }\n",
              "\n",
              "    .dataframe tbody tr th {\n",
              "        vertical-align: top;\n",
              "    }\n",
              "\n",
              "    .dataframe thead th {\n",
              "        text-align: right;\n",
              "    }\n",
              "</style>\n",
              "<table border=\"1\" class=\"dataframe\">\n",
              "  <thead>\n",
              "    <tr style=\"text-align: right;\">\n",
              "      <th></th>\n",
              "      <th>Brand_a</th>\n",
              "      <th>aspirational</th>\n",
              "      <th>Lift</th>\n",
              "    </tr>\n",
              "  </thead>\n",
              "  <tbody>\n",
              "    <tr>\n",
              "      <th>0</th>\n",
              "      <td>bmw</td>\n",
              "      <td>aspire</td>\n",
              "      <td>3.571429</td>\n",
              "    </tr>\n",
              "    <tr>\n",
              "      <th>1</th>\n",
              "      <td>audi</td>\n",
              "      <td>aspire</td>\n",
              "      <td>0.000000</td>\n",
              "    </tr>\n",
              "    <tr>\n",
              "      <th>2</th>\n",
              "      <td>nissan</td>\n",
              "      <td>aspire</td>\n",
              "      <td>10.000000</td>\n",
              "    </tr>\n",
              "    <tr>\n",
              "      <th>3</th>\n",
              "      <td>infiniti</td>\n",
              "      <td>aspire</td>\n",
              "      <td>5.555556</td>\n",
              "    </tr>\n",
              "    <tr>\n",
              "      <th>4</th>\n",
              "      <td>toyota</td>\n",
              "      <td>aspire</td>\n",
              "      <td>0.000000</td>\n",
              "    </tr>\n",
              "    <tr>\n",
              "      <th>5</th>\n",
              "      <td>mercedes</td>\n",
              "      <td>aspire</td>\n",
              "      <td>0.000000</td>\n",
              "    </tr>\n",
              "    <tr>\n",
              "      <th>6</th>\n",
              "      <td>acura</td>\n",
              "      <td>aspire</td>\n",
              "      <td>0.000000</td>\n",
              "    </tr>\n",
              "    <tr>\n",
              "      <th>7</th>\n",
              "      <td>chrysler</td>\n",
              "      <td>aspire</td>\n",
              "      <td>0.000000</td>\n",
              "    </tr>\n",
              "    <tr>\n",
              "      <th>8</th>\n",
              "      <td>ford</td>\n",
              "      <td>aspire</td>\n",
              "      <td>12.500000</td>\n",
              "    </tr>\n",
              "    <tr>\n",
              "      <th>9</th>\n",
              "      <td>honda</td>\n",
              "      <td>aspire</td>\n",
              "      <td>0.000000</td>\n",
              "    </tr>\n",
              "  </tbody>\n",
              "</table>\n",
              "</div>"
            ],
            "text/plain": [
              "    Brand_a aspirational       Lift\n",
              "0       bmw       aspire   3.571429\n",
              "1      audi       aspire   0.000000\n",
              "2    nissan       aspire  10.000000\n",
              "3  infiniti       aspire   5.555556\n",
              "4    toyota       aspire   0.000000\n",
              "5  mercedes       aspire   0.000000\n",
              "6     acura       aspire   0.000000\n",
              "7  chrysler       aspire   0.000000\n",
              "8      ford       aspire  12.500000\n",
              "9     honda       aspire   0.000000"
            ]
          },
          "metadata": {},
          "execution_count": 58
        }
      ]
    },
    {
      "cell_type": "markdown",
      "metadata": {
        "id": "Mt4wEZaZJlxf"
      },
      "source": [
        "Based on the Lift:\n",
        "1. People want to buy or aspire about Ford and Nissan the most. \n",
        "2. in the luxury segment, we can see bmw to be the most aspirational."
      ]
    }
  ]
}